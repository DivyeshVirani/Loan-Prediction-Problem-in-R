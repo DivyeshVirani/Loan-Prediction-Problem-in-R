{
 "cells": [
  {
   "cell_type": "code",
   "execution_count": 1,
   "metadata": {
    "collapsed": true
   },
   "outputs": [],
   "source": [
    "setwd(\"C:/Users/kriti_dutta/Desktop/Data analysis\")"
   ]
  },
  {
   "cell_type": "code",
   "execution_count": 2,
   "metadata": {
    "collapsed": true
   },
   "outputs": [],
   "source": [
    "train=read.csv('train_loan.csv')\n",
    "test=read.csv('test_loan.csv')"
   ]
  },
  {
   "cell_type": "code",
   "execution_count": 3,
   "metadata": {
    "collapsed": false
   },
   "outputs": [
    {
     "data": {
      "text/html": [
       "<table>\n",
       "<thead><tr><th scope=col>Loan_ID</th><th scope=col>Gender</th><th scope=col>Married</th><th scope=col>Dependents</th><th scope=col>Education</th><th scope=col>Self_Employed</th><th scope=col>ApplicantIncome</th><th scope=col>CoapplicantIncome</th><th scope=col>LoanAmount</th><th scope=col>Loan_Amount_Term</th><th scope=col>Credit_History</th><th scope=col>Property_Area</th><th scope=col>Loan_Status</th></tr></thead>\n",
       "<tbody>\n",
       "\t<tr><td>LP001002    </td><td>Male        </td><td>No          </td><td>0           </td><td>Graduate    </td><td>No          </td><td>5849        </td><td>   0        </td><td> NA         </td><td>360         </td><td>1           </td><td>Urban       </td><td>Y           </td></tr>\n",
       "\t<tr><td>LP001003    </td><td>Male        </td><td>Yes         </td><td>1           </td><td>Graduate    </td><td>No          </td><td>4583        </td><td>1508        </td><td>128         </td><td>360         </td><td>1           </td><td>Rural       </td><td>N           </td></tr>\n",
       "\t<tr><td>LP001005    </td><td>Male        </td><td>Yes         </td><td>0           </td><td>Graduate    </td><td>Yes         </td><td>3000        </td><td>   0        </td><td> 66         </td><td>360         </td><td>1           </td><td>Urban       </td><td>Y           </td></tr>\n",
       "\t<tr><td>LP001006    </td><td>Male        </td><td>Yes         </td><td>0           </td><td>Not Graduate</td><td>No          </td><td>2583        </td><td>2358        </td><td>120         </td><td>360         </td><td>1           </td><td>Urban       </td><td>Y           </td></tr>\n",
       "\t<tr><td>LP001008    </td><td>Male        </td><td>No          </td><td>0           </td><td>Graduate    </td><td>No          </td><td>6000        </td><td>   0        </td><td>141         </td><td>360         </td><td>1           </td><td>Urban       </td><td>Y           </td></tr>\n",
       "\t<tr><td>LP001011    </td><td>Male        </td><td>Yes         </td><td>2           </td><td>Graduate    </td><td>Yes         </td><td>5417        </td><td>4196        </td><td>267         </td><td>360         </td><td>1           </td><td>Urban       </td><td>Y           </td></tr>\n",
       "</tbody>\n",
       "</table>\n"
      ],
      "text/latex": [
       "\\begin{tabular}{r|lllllllllllll}\n",
       " Loan\\_ID & Gender & Married & Dependents & Education & Self\\_Employed & ApplicantIncome & CoapplicantIncome & LoanAmount & Loan\\_Amount\\_Term & Credit\\_History & Property\\_Area & Loan\\_Status\\\\\n",
       "\\hline\n",
       "\t LP001002     & Male         & No           & 0            & Graduate     & No           & 5849         &    0         &  NA          & 360          & 1            & Urban        & Y           \\\\\n",
       "\t LP001003     & Male         & Yes          & 1            & Graduate     & No           & 4583         & 1508         & 128          & 360          & 1            & Rural        & N           \\\\\n",
       "\t LP001005     & Male         & Yes          & 0            & Graduate     & Yes          & 3000         &    0         &  66          & 360          & 1            & Urban        & Y           \\\\\n",
       "\t LP001006     & Male         & Yes          & 0            & Not Graduate & No           & 2583         & 2358         & 120          & 360          & 1            & Urban        & Y           \\\\\n",
       "\t LP001008     & Male         & No           & 0            & Graduate     & No           & 6000         &    0         & 141          & 360          & 1            & Urban        & Y           \\\\\n",
       "\t LP001011     & Male         & Yes          & 2            & Graduate     & Yes          & 5417         & 4196         & 267          & 360          & 1            & Urban        & Y           \\\\\n",
       "\\end{tabular}\n"
      ],
      "text/markdown": [
       "\n",
       "Loan_ID | Gender | Married | Dependents | Education | Self_Employed | ApplicantIncome | CoapplicantIncome | LoanAmount | Loan_Amount_Term | Credit_History | Property_Area | Loan_Status | \n",
       "|---|---|---|---|---|---|\n",
       "| LP001002     | Male         | No           | 0            | Graduate     | No           | 5849         |    0         |  NA          | 360          | 1            | Urban        | Y            | \n",
       "| LP001003     | Male         | Yes          | 1            | Graduate     | No           | 4583         | 1508         | 128          | 360          | 1            | Rural        | N            | \n",
       "| LP001005     | Male         | Yes          | 0            | Graduate     | Yes          | 3000         |    0         |  66          | 360          | 1            | Urban        | Y            | \n",
       "| LP001006     | Male         | Yes          | 0            | Not Graduate | No           | 2583         | 2358         | 120          | 360          | 1            | Urban        | Y            | \n",
       "| LP001008     | Male         | No           | 0            | Graduate     | No           | 6000         |    0         | 141          | 360          | 1            | Urban        | Y            | \n",
       "| LP001011     | Male         | Yes          | 2            | Graduate     | Yes          | 5417         | 4196         | 267          | 360          | 1            | Urban        | Y            | \n",
       "\n",
       "\n"
      ],
      "text/plain": [
       "  Loan_ID  Gender Married Dependents Education    Self_Employed ApplicantIncome\n",
       "1 LP001002 Male   No      0          Graduate     No            5849           \n",
       "2 LP001003 Male   Yes     1          Graduate     No            4583           \n",
       "3 LP001005 Male   Yes     0          Graduate     Yes           3000           \n",
       "4 LP001006 Male   Yes     0          Not Graduate No            2583           \n",
       "5 LP001008 Male   No      0          Graduate     No            6000           \n",
       "6 LP001011 Male   Yes     2          Graduate     Yes           5417           \n",
       "  CoapplicantIncome LoanAmount Loan_Amount_Term Credit_History Property_Area\n",
       "1    0               NA        360              1              Urban        \n",
       "2 1508              128        360              1              Rural        \n",
       "3    0               66        360              1              Urban        \n",
       "4 2358              120        360              1              Urban        \n",
       "5    0              141        360              1              Urban        \n",
       "6 4196              267        360              1              Urban        \n",
       "  Loan_Status\n",
       "1 Y          \n",
       "2 N          \n",
       "3 Y          \n",
       "4 Y          \n",
       "5 Y          \n",
       "6 Y          "
      ]
     },
     "metadata": {},
     "output_type": "display_data"
    }
   ],
   "source": [
    "head(train)"
   ]
  },
  {
   "cell_type": "markdown",
   "metadata": {},
   "source": [
    "Since following dataset contains Character value of columns like Gender etc, we need to change it into numeric value"
   ]
  },
  {
   "cell_type": "code",
   "execution_count": 4,
   "metadata": {
    "collapsed": false
   },
   "outputs": [
    {
     "data": {
      "text/html": [
       "<ol class=list-inline>\n",
       "\t<li>''</li>\n",
       "\t<li>'Female'</li>\n",
       "\t<li>'Male'</li>\n",
       "</ol>\n"
      ],
      "text/latex": [
       "\\begin{enumerate*}\n",
       "\\item ''\n",
       "\\item 'Female'\n",
       "\\item 'Male'\n",
       "\\end{enumerate*}\n"
      ],
      "text/markdown": [
       "1. ''\n",
       "2. 'Female'\n",
       "3. 'Male'\n",
       "\n",
       "\n"
      ],
      "text/plain": [
       "[1] \"\"       \"Female\" \"Male\"  "
      ]
     },
     "metadata": {},
     "output_type": "display_data"
    }
   ],
   "source": [
    "levels(train$Gender)\n"
   ]
  },
  {
   "cell_type": "code",
   "execution_count": 5,
   "metadata": {
    "collapsed": false
   },
   "outputs": [],
   "source": [
    "levels(train$Gender)[1]=NA\n",
    "levels(train$Gender)[1]=1\n",
    "levels(train$Gender)[2]=0\n",
    "\n"
   ]
  },
  {
   "cell_type": "code",
   "execution_count": 6,
   "metadata": {
    "collapsed": false
   },
   "outputs": [
    {
     "data": {
      "text/html": [
       "<ol class=list-inline>\n",
       "\t<li>'1'</li>\n",
       "\t<li>'0'</li>\n",
       "</ol>\n"
      ],
      "text/latex": [
       "\\begin{enumerate*}\n",
       "\\item '1'\n",
       "\\item '0'\n",
       "\\end{enumerate*}\n"
      ],
      "text/markdown": [
       "1. '1'\n",
       "2. '0'\n",
       "\n",
       "\n"
      ],
      "text/plain": [
       "[1] \"1\" \"0\""
      ]
     },
     "metadata": {},
     "output_type": "display_data"
    }
   ],
   "source": [
    "levels(train$Gender)"
   ]
  },
  {
   "cell_type": "markdown",
   "metadata": {},
   "source": [
    "'''Like this we will change the columns like Education,Loan_Status,Married,SelfEmployed,Property area"
   ]
  },
  {
   "cell_type": "markdown",
   "metadata": {},
   "source": [
    "Now I am loading an alredy cleaned dataset of train and test '''"
   ]
  },
  {
   "cell_type": "code",
   "execution_count": 7,
   "metadata": {
    "collapsed": true
   },
   "outputs": [],
   "source": [
    "train=read.csv('loan_train.csv')\n",
    "test=read.csv('loan_test.csv')"
   ]
  },
  {
   "cell_type": "code",
   "execution_count": 8,
   "metadata": {
    "collapsed": false
   },
   "outputs": [
    {
     "data": {
      "text/html": [
       "<table>\n",
       "<thead><tr><th scope=col>X.1</th><th scope=col>X</th><th scope=col>Loan_ID</th><th scope=col>Gender</th><th scope=col>Married</th><th scope=col>Dependents</th><th scope=col>Education</th><th scope=col>Self_Employed</th><th scope=col>ApplicantIncome</th><th scope=col>CoapplicantIncome</th><th scope=col>LoanAmount</th><th scope=col>Loan_Amount_Term</th><th scope=col>Credit_History</th><th scope=col>Property_Area</th><th scope=col>Loan_Status</th></tr></thead>\n",
       "<tbody>\n",
       "\t<tr><td>1       </td><td>1       </td><td>LP001002</td><td>0       </td><td>0       </td><td>0       </td><td>1       </td><td>0       </td><td>5849    </td><td>   0    </td><td>141     </td><td>360     </td><td>1       </td><td>2       </td><td>1       </td></tr>\n",
       "\t<tr><td>2       </td><td>2       </td><td>LP001003</td><td>0       </td><td>1       </td><td>1       </td><td>1       </td><td>0       </td><td>4583    </td><td>1508    </td><td>128     </td><td>360     </td><td>1       </td><td>0       </td><td>0       </td></tr>\n",
       "\t<tr><td>3       </td><td>3       </td><td>LP001005</td><td>0       </td><td>1       </td><td>0       </td><td>1       </td><td>1       </td><td>3000    </td><td>   0    </td><td> 66     </td><td>360     </td><td>1       </td><td>2       </td><td>1       </td></tr>\n",
       "\t<tr><td>4       </td><td>4       </td><td>LP001006</td><td>0       </td><td>1       </td><td>0       </td><td>0       </td><td>0       </td><td>2583    </td><td>2358    </td><td>120     </td><td>360     </td><td>1       </td><td>2       </td><td>1       </td></tr>\n",
       "\t<tr><td>5       </td><td>5       </td><td>LP001008</td><td>0       </td><td>0       </td><td>0       </td><td>1       </td><td>0       </td><td>6000    </td><td>   0    </td><td>141     </td><td>360     </td><td>1       </td><td>2       </td><td>1       </td></tr>\n",
       "\t<tr><td>6       </td><td>6       </td><td>LP001011</td><td>0       </td><td>1       </td><td>2       </td><td>1       </td><td>1       </td><td>5417    </td><td>4196    </td><td>267     </td><td>360     </td><td>1       </td><td>2       </td><td>1       </td></tr>\n",
       "</tbody>\n",
       "</table>\n"
      ],
      "text/latex": [
       "\\begin{tabular}{r|lllllllllllllll}\n",
       " X.1 & X & Loan\\_ID & Gender & Married & Dependents & Education & Self\\_Employed & ApplicantIncome & CoapplicantIncome & LoanAmount & Loan\\_Amount\\_Term & Credit\\_History & Property\\_Area & Loan\\_Status\\\\\n",
       "\\hline\n",
       "\t 1        & 1        & LP001002 & 0        & 0        & 0        & 1        & 0        & 5849     &    0     & 141      & 360      & 1        & 2        & 1       \\\\\n",
       "\t 2        & 2        & LP001003 & 0        & 1        & 1        & 1        & 0        & 4583     & 1508     & 128      & 360      & 1        & 0        & 0       \\\\\n",
       "\t 3        & 3        & LP001005 & 0        & 1        & 0        & 1        & 1        & 3000     &    0     &  66      & 360      & 1        & 2        & 1       \\\\\n",
       "\t 4        & 4        & LP001006 & 0        & 1        & 0        & 0        & 0        & 2583     & 2358     & 120      & 360      & 1        & 2        & 1       \\\\\n",
       "\t 5        & 5        & LP001008 & 0        & 0        & 0        & 1        & 0        & 6000     &    0     & 141      & 360      & 1        & 2        & 1       \\\\\n",
       "\t 6        & 6        & LP001011 & 0        & 1        & 2        & 1        & 1        & 5417     & 4196     & 267      & 360      & 1        & 2        & 1       \\\\\n",
       "\\end{tabular}\n"
      ],
      "text/markdown": [
       "\n",
       "X.1 | X | Loan_ID | Gender | Married | Dependents | Education | Self_Employed | ApplicantIncome | CoapplicantIncome | LoanAmount | Loan_Amount_Term | Credit_History | Property_Area | Loan_Status | \n",
       "|---|---|---|---|---|---|\n",
       "| 1        | 1        | LP001002 | 0        | 0        | 0        | 1        | 0        | 5849     |    0     | 141      | 360      | 1        | 2        | 1        | \n",
       "| 2        | 2        | LP001003 | 0        | 1        | 1        | 1        | 0        | 4583     | 1508     | 128      | 360      | 1        | 0        | 0        | \n",
       "| 3        | 3        | LP001005 | 0        | 1        | 0        | 1        | 1        | 3000     |    0     |  66      | 360      | 1        | 2        | 1        | \n",
       "| 4        | 4        | LP001006 | 0        | 1        | 0        | 0        | 0        | 2583     | 2358     | 120      | 360      | 1        | 2        | 1        | \n",
       "| 5        | 5        | LP001008 | 0        | 0        | 0        | 1        | 0        | 6000     |    0     | 141      | 360      | 1        | 2        | 1        | \n",
       "| 6        | 6        | LP001011 | 0        | 1        | 2        | 1        | 1        | 5417     | 4196     | 267      | 360      | 1        | 2        | 1        | \n",
       "\n",
       "\n"
      ],
      "text/plain": [
       "  X.1 X Loan_ID  Gender Married Dependents Education Self_Employed\n",
       "1 1   1 LP001002 0      0       0          1         0            \n",
       "2 2   2 LP001003 0      1       1          1         0            \n",
       "3 3   3 LP001005 0      1       0          1         1            \n",
       "4 4   4 LP001006 0      1       0          0         0            \n",
       "5 5   5 LP001008 0      0       0          1         0            \n",
       "6 6   6 LP001011 0      1       2          1         1            \n",
       "  ApplicantIncome CoapplicantIncome LoanAmount Loan_Amount_Term Credit_History\n",
       "1 5849               0              141        360              1             \n",
       "2 4583            1508              128        360              1             \n",
       "3 3000               0               66        360              1             \n",
       "4 2583            2358              120        360              1             \n",
       "5 6000               0              141        360              1             \n",
       "6 5417            4196              267        360              1             \n",
       "  Property_Area Loan_Status\n",
       "1 2             1          \n",
       "2 0             0          \n",
       "3 2             1          \n",
       "4 2             1          \n",
       "5 2             1          \n",
       "6 2             1          "
      ]
     },
     "metadata": {},
     "output_type": "display_data"
    }
   ],
   "source": [
    "head(train)"
   ]
  },
  {
   "cell_type": "markdown",
   "metadata": {},
   "source": [
    "The dataset will now look like this\n"
   ]
  },
  {
   "cell_type": "markdown",
   "metadata": {},
   "source": [
    "# Data Visualization"
   ]
  },
  {
   "cell_type": "code",
   "execution_count": 9,
   "metadata": {
    "collapsed": true
   },
   "outputs": [],
   "source": [
    "library('ggplot2')"
   ]
  },
  {
   "cell_type": "code",
   "execution_count": 10,
   "metadata": {
    "collapsed": false
   },
   "outputs": [
    {
     "data": {},
     "metadata": {},
     "output_type": "display_data"
    },
    {
     "data": {
      "image/png": "[encoded data removed]",
      "text/plain": [
       "plot without title"
      ]
     },
     "metadata": {},
     "output_type": "display_data"
    }
   ],
   "source": [
    "ggplot(data=train,aes(x=ApplicantIncome))+geom_histogram(bins=50,color='black')"
   ]
  },
  {
   "cell_type": "markdown",
   "metadata": {},
   "source": [
    "'''There are few extreme values thats why we have a bin of 50.'''"
   ]
  },
  {
   "cell_type": "code",
   "execution_count": 11,
   "metadata": {
    "collapsed": false
   },
   "outputs": [
    {
     "data": {},
     "metadata": {},
     "output_type": "display_data"
    },
    {
     "data": {
      "image/png": "[encoded data removed]",
      "text/plain": [
       "plot without title"
      ]
     },
     "metadata": {},
     "output_type": "display_data"
    }
   ],
   "source": [
    "ggplot(data=train,aes(y=ApplicantIncome,x=factor(Gender),na.rm=TRUE))+geom_boxplot(color='blue',outlier.color='green')\n"
   ]
  },
  {
   "cell_type": "markdown",
   "metadata": {},
   "source": [
    "#### Boxplot showing variation of  income with gender"
   ]
  },
  {
   "cell_type": "markdown",
   "metadata": {},
   "source": [
    "This boxplot shows that there are lot of outliers values in data.This could happen as there is lot of income disparity in society.\n",
    "\n",
    "Now we can segregate the values by education level"
   ]
  },
  {
   "cell_type": "code",
   "execution_count": 12,
   "metadata": {
    "collapsed": false
   },
   "outputs": [
    {
     "data": {},
     "metadata": {},
     "output_type": "display_data"
    },
    {
     "data": {
      "image/png": "[encoded data removed]",
      "text/plain": [
       "plot without title"
      ]
     },
     "metadata": {},
     "output_type": "display_data"
    }
   ],
   "source": [
    "ggplot(data=train,aes(y=ApplicantIncome,x=factor(Education),na.rm=TRUE))+geom_boxplot(color='red',outlier.color='black')\n"
   ]
  },
  {
   "cell_type": "code",
   "execution_count": 13,
   "metadata": {
    "collapsed": false
   },
   "outputs": [
    {
     "data": {},
     "metadata": {},
     "output_type": "display_data"
    },
    {
     "data": {
      "image/png": "[encoded data removed]",
      "text/plain": [
       "plot without title"
      ]
     },
     "metadata": {},
     "output_type": "display_data"
    }
   ],
   "source": [
    " ggplot(data=train,aes(x=LoanAmount,fill='red'))+geom_histogram(bins=50,color='black')\n"
   ]
  },
  {
   "cell_type": "raw",
   "metadata": {},
   "source": [
    "Here we can again see some extreme values are there which need to be corrected. "
   ]
  },
  {
   "cell_type": "markdown",
   "metadata": {},
   "source": [
    "# Categorical variable analysis"
   ]
  },
  {
   "cell_type": "markdown",
   "metadata": {},
   "source": [
    "We will analyze the categorical variable like credit history using aggregation(pivot table in MS excel)"
   ]
  },
  {
   "cell_type": "code",
   "execution_count": 14,
   "metadata": {
    "collapsed": false
   },
   "outputs": [],
   "source": [
    "aggdata2=aggregate(Loan_Status~Credit_History,train,FUN=mean)"
   ]
  },
  {
   "cell_type": "code",
   "execution_count": 15,
   "metadata": {
    "collapsed": false
   },
   "outputs": [
    {
     "data": {
      "text/html": [
       "<table>\n",
       "<thead><tr><th scope=col>Credit_History</th><th scope=col>Loan_Status</th></tr></thead>\n",
       "<tbody>\n",
       "\t<tr><td>0         </td><td>0.07865169</td></tr>\n",
       "\t<tr><td>1         </td><td>0.79578947</td></tr>\n",
       "</tbody>\n",
       "</table>\n"
      ],
      "text/latex": [
       "\\begin{tabular}{r|ll}\n",
       " Credit\\_History & Loan\\_Status\\\\\n",
       "\\hline\n",
       "\t 0          & 0.07865169\\\\\n",
       "\t 1          & 0.79578947\\\\\n",
       "\\end{tabular}\n"
      ],
      "text/markdown": [
       "\n",
       "Credit_History | Loan_Status | \n",
       "|---|---|\n",
       "| 0          | 0.07865169 | \n",
       "| 1          | 0.79578947 | \n",
       "\n",
       "\n"
      ],
      "text/plain": [
       "  Credit_History Loan_Status\n",
       "1 0              0.07865169 \n",
       "2 1              0.79578947 "
      ]
     },
     "metadata": {},
     "output_type": "display_data"
    }
   ],
   "source": [
    "aggdata2"
   ]
  },
  {
   "cell_type": "raw",
   "metadata": {},
   "source": [
    "Here we can se we get probability of getting a loan aggregated by credit history.This will tell us how important credit_History variable is for us"
   ]
  },
  {
   "cell_type": "code",
   "execution_count": 16,
   "metadata": {
    "collapsed": false
   },
   "outputs": [
    {
     "data": {},
     "metadata": {},
     "output_type": "display_data"
    },
    {
     "data": {
      "image/png": "[encoded data removed]",
      "text/plain": [
       "plot without title"
      ]
     },
     "metadata": {},
     "output_type": "display_data"
    }
   ],
   "source": [
    "ggplot(data=train,aes(x=factor(Credit_History)))+geom_bar(width=0.3,fill=\"light blue\")+labs(x=\"Credit_History\",y=\"Count of applicants\")"
   ]
  },
  {
   "cell_type": "code",
   "execution_count": 17,
   "metadata": {
    "collapsed": false
   },
   "outputs": [
    {
     "data": {},
     "metadata": {},
     "output_type": "display_data"
    },
    {
     "data": {
      "image/png": "[encoded data removed]",
      "text/plain": [
       "plot without title"
      ]
     },
     "metadata": {},
     "output_type": "display_data"
    }
   ],
   "source": [
    "ggplot(data=aggdata2,aes(x=factor(Credit_History),y=Loan_Status))+geom_bar(stat=\"identity\",width=0.3,fill=\"light blue\")+labs(x=\"Credit_History\",y=\"Probability of loan\")"
   ]
  },
  {
   "cell_type": "markdown",
   "metadata": {
    "collapsed": true
   },
   "source": [
    "This means that the probability of getting loan is eight times more with a valid Credit history"
   ]
  },
  {
   "cell_type": "markdown",
   "metadata": {},
   "source": [
    "We can take other categorical variables and plot them like above like Self_Employed,Married etc. While calculating Self_employed and married variables, It is found that they are not so important."
   ]
  },
  {
   "cell_type": "code",
   "execution_count": null,
   "metadata": {
    "collapsed": true
   },
   "outputs": [],
   "source": []
  }
 ],
 "metadata": {
  "anaconda-cloud": {},
  "kernelspec": {
   "display_name": "R 3.3",
   "language": "R",
   "name": "ir33"
  },
  "language_info": {
   "codemirror_mode": "r",
   "file_extension": ".r",
   "mimetype": "text/x-r-source",
   "name": "R",
   "pygments_lexer": "r",
   "version": "3.3.2"
  }
 },
 "nbformat": 4,
 "nbformat_minor": 1
}
